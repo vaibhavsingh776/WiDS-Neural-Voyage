{
 "cells": [
  {
   "cell_type": "markdown",
   "metadata": {},
   "source": [
    "# Linear Regression"
   ]
  },
  {
   "cell_type": "markdown",
   "metadata": {},
   "source": [
    "In this assignment, you need to understand and implement linear regression and evaluate its performance on the Boston Housing Dataset"
   ]
  },
  {
   "cell_type": "markdown",
   "metadata": {},
   "source": [
    "### **Import Libraries**"
   ]
  },
  {
   "cell_type": "code",
   "execution_count": 1,
   "metadata": {},
   "outputs": [],
   "source": [
    "import numpy as np\n",
    "import pandas as pd\n",
    "import matplotlib.pyplot as plt\n",
    "from sklearn.model_selection import train_test_split\n",
    "from sklearn.metrics import mean_squared_error, r2_score"
   ]
  },
  {
   "cell_type": "markdown",
   "metadata": {},
   "source": [
    "### **Load the dataset**\n",
    "Use pd.read_csv() function to read data from the 'HousingData.csv' file"
   ]
  },
  {
   "cell_type": "code",
   "execution_count": 2,
   "metadata": {},
   "outputs": [],
   "source": [
    "data = pd.read_csv('HousingData.csv')"
   ]
  },
  {
   "cell_type": "markdown",
   "metadata": {},
   "source": [
    "### **Data Preparation**"
   ]
  },
  {
   "cell_type": "markdown",
   "metadata": {},
   "source": [
    "We will split the dataset into training and testing data with an 80/20 split."
   ]
  },
  {
   "cell_type": "code",
   "execution_count": 3,
   "metadata": {},
   "outputs": [],
   "source": [
    "from sklearn.preprocessing import StandardScaler\n",
    "\n",
    "X = data.drop(columns='MEDV').values    # All input features\n",
    "y = data['MEDV'].values                 # Target variable\n",
    "\n",
    "scaler = StandardScaler()\n",
    "X = scaler.fit_transform(X)             # Normalizing the input data to avoid any overflows\n",
    "\n",
    "# Split into train and test sets\n",
    "X_train, X_test, y_train, y_test = train_test_split(X, y, test_size=0.2, random_state=42)   # specifying random state ensures that the random split is same everytime we run this command\n",
    "\n",
    "# Drop rows with NaN or Inf\n",
    "y_train = y_train[~np.isnan(X_train).any(axis=1)]\n",
    "X_train = X_train[~np.isnan(X_train).any(axis=1)]\n",
    "\n",
    "y_train = y_train[~np.isinf(X_train).any(axis=1)]\n",
    "X_train = X_train[~np.isinf(X_train).any(axis=1)]\n",
    "\n",
    "# Similarly for X_test\n",
    "y_test = y_test[~np.isnan(X_test).any(axis=1)]\n",
    "X_test = X_test[~np.isnan(X_test).any(axis=1)]\n",
    "\n",
    "y_test = y_test[~np.isinf(X_test).any(axis=1)]\n",
    "X_test = X_test[~np.isinf(X_test).any(axis=1)]"
   ]
  },
  {
   "cell_type": "markdown",
   "metadata": {},
   "source": [
    "### **Implement Linear Regression from Scratch**"
   ]
  },
  {
   "cell_type": "markdown",
   "metadata": {},
   "source": [
    "The three major tasks in this process are:\n",
    "* Fitting the model using gradient descent\n",
    "* Predicting values for test data\n",
    "* Calculating the Mean Squared Error (MSE)\n",
    "\n",
    "Since this implementation will handle multiple input features, it is called multivariate linear regression"
   ]
  },
  {
   "cell_type": "code",
   "execution_count": 4,
   "metadata": {},
   "outputs": [],
   "source": [
    "class LinearRegression:\n",
    "    def __init__(self):\n",
    "        # Initialize weights and bias\n",
    "        pass\n",
    "\n",
    "    def fit(self, X, y, lr=0.01, epochs=1000):\n",
    "        # Initialize parameters\n",
    "\n",
    "        # Gradient descent\n",
    "        \n",
    "        pass\n",
    "\n",
    "    def predict(self, X):\n",
    "        pass\n",
    "\n",
    "    def mean_squared_error(self, y_true, y_pred):\n",
    "        pass"
   ]
  },
  {
   "cell_type": "markdown",
   "metadata": {},
   "source": [
    "### **Instantiate the model**\n",
    "Create an instance of the class and name it *model* and fit on the training data with **learning rate = 0.01** and **1000 iterations**."
   ]
  },
  {
   "cell_type": "code",
   "execution_count": 5,
   "metadata": {},
   "outputs": [],
   "source": [
    "# Initialize the model\n",
    "model = None\n",
    "\n",
    "# Train the model\n"
   ]
  },
  {
   "cell_type": "markdown",
   "metadata": {},
   "source": [
    "### **Evaluate the Model**\n",
    "Evaluate the model's performance on the test set using:\n",
    "1. Mean Squared Error (MSE)\n",
    "2. R-squared Score"
   ]
  },
  {
   "cell_type": "code",
   "execution_count": 6,
   "metadata": {},
   "outputs": [],
   "source": [
    "# Define the R2_score function\n",
    "def R2_score(y_test, y_test_pred):\n",
    "    y_mean = y_test.mean()\n",
    "    return 1 - ((sum((y_test - y_test_pred) ** 2)) / (sum((y_test - y_mean) ** 2)))"
   ]
  },
  {
   "cell_type": "code",
   "execution_count": 8,
   "metadata": {},
   "outputs": [],
   "source": [
    "# Predict on test data\n",
    "y_test_pred = None\n",
    "\n",
    "# Calculate evaluation metrics\n",
    "mse = None\n",
    "r2 = None\n",
    "\n",
    "# print(f\"Mean Squared Error: {mse:.2f}\")\n",
    "# print(f\"R-squared Score: {r2:.2f}\")\n"
   ]
  },
  {
   "cell_type": "markdown",
   "metadata": {},
   "source": [
    "## **Comparing your results with sklearn's Linear Regression**\n",
    "To validate your implementation, let's compare the results with sklearn's `LinearRegression` model"
   ]
  },
  {
   "cell_type": "code",
   "execution_count": null,
   "metadata": {},
   "outputs": [],
   "source": [
    "from sklearn.linear_model import LinearRegression\n",
    "\n",
    "lr = LinearRegression()\n",
    "lr.fit(X_train, y_train)\n",
    "\n",
    "# Predict and evaluate\n",
    "y_test_pred_sklearn = lr.predict(X_test)\n",
    "mse_sklearn = mean_squared_error(y_test, y_test_pred_sklearn)\n",
    "r2_sklearn = r2_score(y_test, y_test_pred_sklearn)\n",
    "\n",
    "print(f\"Sklearn Model's Mean Squared Error: {mse_sklearn:.2f}\")\n",
    "print(f\"Sklearn Model's R-squared Score: {r2_sklearn:.2f}\")\n",
    "\n",
    "# Compare weights and bias\n",
    "# print(f\"Your Model's Weights: {model.weights}, Bias: {model.bias}\")\n",
    "# print(f\"Sklearn Model's Weights: {lr.coef_}, Bias: {lr.intercept_}\")"
   ]
  }
 ],
 "metadata": {
  "kernelspec": {
   "display_name": "base",
   "language": "python",
   "name": "python3"
  },
  "language_info": {
   "codemirror_mode": {
    "name": "ipython",
    "version": 3
   },
   "file_extension": ".py",
   "mimetype": "text/x-python",
   "name": "python",
   "nbconvert_exporter": "python",
   "pygments_lexer": "ipython3",
   "version": "3.12.2"
  }
 },
 "nbformat": 4,
 "nbformat_minor": 2
}
